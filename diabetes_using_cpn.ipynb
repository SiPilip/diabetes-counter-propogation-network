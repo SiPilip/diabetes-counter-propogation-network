{
  "nbformat": 4,
  "nbformat_minor": 0,
  "metadata": {
    "colab": {
      "provenance": [],
      "authorship_tag": "ABX9TyNoj6FolGFeIIjdBl55f9Tc",
      "include_colab_link": true
    },
    "kernelspec": {
      "name": "python3",
      "display_name": "Python 3"
    },
    "language_info": {
      "name": "python"
    },
    "widgets": {
      "application/vnd.jupyter.widget-state+json": {
        "424d3e2f02b644808cb1d97dc49e7d7f": {
          "model_module": "@jupyter-widgets/controls",
          "model_name": "HBoxModel",
          "model_module_version": "1.5.0",
          "state": {
            "_dom_classes": [],
            "_model_module": "@jupyter-widgets/controls",
            "_model_module_version": "1.5.0",
            "_model_name": "HBoxModel",
            "_view_count": null,
            "_view_module": "@jupyter-widgets/controls",
            "_view_module_version": "1.5.0",
            "_view_name": "HBoxView",
            "box_style": "",
            "children": [
              "IPY_MODEL_e18236a6c33b4f8abc1429e3facfa903",
              "IPY_MODEL_07ba6e57ebea45aab449d09a7acb86f0",
              "IPY_MODEL_af867ad440774c55b759ba213e950000"
            ],
            "layout": "IPY_MODEL_4182bda6f571428ca813b0b96b7e2951"
          }
        },
        "e18236a6c33b4f8abc1429e3facfa903": {
          "model_module": "@jupyter-widgets/controls",
          "model_name": "HTMLModel",
          "model_module_version": "1.5.0",
          "state": {
            "_dom_classes": [],
            "_model_module": "@jupyter-widgets/controls",
            "_model_module_version": "1.5.0",
            "_model_name": "HTMLModel",
            "_view_count": null,
            "_view_module": "@jupyter-widgets/controls",
            "_view_module_version": "1.5.0",
            "_view_name": "HTMLView",
            "description": "",
            "description_tooltip": null,
            "layout": "IPY_MODEL_38226fe3bff14d5890ad34b33def5521",
            "placeholder": "​",
            "style": "IPY_MODEL_dc4cc5b44bd64b71a3e72f1c9fd33c7f",
            "value": "100%"
          }
        },
        "07ba6e57ebea45aab449d09a7acb86f0": {
          "model_module": "@jupyter-widgets/controls",
          "model_name": "FloatProgressModel",
          "model_module_version": "1.5.0",
          "state": {
            "_dom_classes": [],
            "_model_module": "@jupyter-widgets/controls",
            "_model_module_version": "1.5.0",
            "_model_name": "FloatProgressModel",
            "_view_count": null,
            "_view_module": "@jupyter-widgets/controls",
            "_view_module_version": "1.5.0",
            "_view_name": "ProgressView",
            "bar_style": "success",
            "description": "",
            "description_tooltip": null,
            "layout": "IPY_MODEL_f5860e059b5548d1a9a149fdf47cb379",
            "max": 5,
            "min": 0,
            "orientation": "horizontal",
            "style": "IPY_MODEL_2e8690804f5943d28d8a422b6a825d71",
            "value": 5
          }
        },
        "af867ad440774c55b759ba213e950000": {
          "model_module": "@jupyter-widgets/controls",
          "model_name": "HTMLModel",
          "model_module_version": "1.5.0",
          "state": {
            "_dom_classes": [],
            "_model_module": "@jupyter-widgets/controls",
            "_model_module_version": "1.5.0",
            "_model_name": "HTMLModel",
            "_view_count": null,
            "_view_module": "@jupyter-widgets/controls",
            "_view_module_version": "1.5.0",
            "_view_name": "HTMLView",
            "description": "",
            "description_tooltip": null,
            "layout": "IPY_MODEL_9054985cce29483894950b0e67bd1803",
            "placeholder": "​",
            "style": "IPY_MODEL_2c946bcac6224823a4303577f14b9277",
            "value": " 5/5 [00:01&lt;00:00,  4.48it/s]"
          }
        },
        "4182bda6f571428ca813b0b96b7e2951": {
          "model_module": "@jupyter-widgets/base",
          "model_name": "LayoutModel",
          "model_module_version": "1.2.0",
          "state": {
            "_model_module": "@jupyter-widgets/base",
            "_model_module_version": "1.2.0",
            "_model_name": "LayoutModel",
            "_view_count": null,
            "_view_module": "@jupyter-widgets/base",
            "_view_module_version": "1.2.0",
            "_view_name": "LayoutView",
            "align_content": null,
            "align_items": null,
            "align_self": null,
            "border": null,
            "bottom": null,
            "display": null,
            "flex": null,
            "flex_flow": null,
            "grid_area": null,
            "grid_auto_columns": null,
            "grid_auto_flow": null,
            "grid_auto_rows": null,
            "grid_column": null,
            "grid_gap": null,
            "grid_row": null,
            "grid_template_areas": null,
            "grid_template_columns": null,
            "grid_template_rows": null,
            "height": null,
            "justify_content": null,
            "justify_items": null,
            "left": null,
            "margin": null,
            "max_height": null,
            "max_width": null,
            "min_height": null,
            "min_width": null,
            "object_fit": null,
            "object_position": null,
            "order": null,
            "overflow": null,
            "overflow_x": null,
            "overflow_y": null,
            "padding": null,
            "right": null,
            "top": null,
            "visibility": null,
            "width": null
          }
        },
        "38226fe3bff14d5890ad34b33def5521": {
          "model_module": "@jupyter-widgets/base",
          "model_name": "LayoutModel",
          "model_module_version": "1.2.0",
          "state": {
            "_model_module": "@jupyter-widgets/base",
            "_model_module_version": "1.2.0",
            "_model_name": "LayoutModel",
            "_view_count": null,
            "_view_module": "@jupyter-widgets/base",
            "_view_module_version": "1.2.0",
            "_view_name": "LayoutView",
            "align_content": null,
            "align_items": null,
            "align_self": null,
            "border": null,
            "bottom": null,
            "display": null,
            "flex": null,
            "flex_flow": null,
            "grid_area": null,
            "grid_auto_columns": null,
            "grid_auto_flow": null,
            "grid_auto_rows": null,
            "grid_column": null,
            "grid_gap": null,
            "grid_row": null,
            "grid_template_areas": null,
            "grid_template_columns": null,
            "grid_template_rows": null,
            "height": null,
            "justify_content": null,
            "justify_items": null,
            "left": null,
            "margin": null,
            "max_height": null,
            "max_width": null,
            "min_height": null,
            "min_width": null,
            "object_fit": null,
            "object_position": null,
            "order": null,
            "overflow": null,
            "overflow_x": null,
            "overflow_y": null,
            "padding": null,
            "right": null,
            "top": null,
            "visibility": null,
            "width": null
          }
        },
        "dc4cc5b44bd64b71a3e72f1c9fd33c7f": {
          "model_module": "@jupyter-widgets/controls",
          "model_name": "DescriptionStyleModel",
          "model_module_version": "1.5.0",
          "state": {
            "_model_module": "@jupyter-widgets/controls",
            "_model_module_version": "1.5.0",
            "_model_name": "DescriptionStyleModel",
            "_view_count": null,
            "_view_module": "@jupyter-widgets/base",
            "_view_module_version": "1.2.0",
            "_view_name": "StyleView",
            "description_width": ""
          }
        },
        "f5860e059b5548d1a9a149fdf47cb379": {
          "model_module": "@jupyter-widgets/base",
          "model_name": "LayoutModel",
          "model_module_version": "1.2.0",
          "state": {
            "_model_module": "@jupyter-widgets/base",
            "_model_module_version": "1.2.0",
            "_model_name": "LayoutModel",
            "_view_count": null,
            "_view_module": "@jupyter-widgets/base",
            "_view_module_version": "1.2.0",
            "_view_name": "LayoutView",
            "align_content": null,
            "align_items": null,
            "align_self": null,
            "border": null,
            "bottom": null,
            "display": null,
            "flex": null,
            "flex_flow": null,
            "grid_area": null,
            "grid_auto_columns": null,
            "grid_auto_flow": null,
            "grid_auto_rows": null,
            "grid_column": null,
            "grid_gap": null,
            "grid_row": null,
            "grid_template_areas": null,
            "grid_template_columns": null,
            "grid_template_rows": null,
            "height": null,
            "justify_content": null,
            "justify_items": null,
            "left": null,
            "margin": null,
            "max_height": null,
            "max_width": null,
            "min_height": null,
            "min_width": null,
            "object_fit": null,
            "object_position": null,
            "order": null,
            "overflow": null,
            "overflow_x": null,
            "overflow_y": null,
            "padding": null,
            "right": null,
            "top": null,
            "visibility": null,
            "width": null
          }
        },
        "2e8690804f5943d28d8a422b6a825d71": {
          "model_module": "@jupyter-widgets/controls",
          "model_name": "ProgressStyleModel",
          "model_module_version": "1.5.0",
          "state": {
            "_model_module": "@jupyter-widgets/controls",
            "_model_module_version": "1.5.0",
            "_model_name": "ProgressStyleModel",
            "_view_count": null,
            "_view_module": "@jupyter-widgets/base",
            "_view_module_version": "1.2.0",
            "_view_name": "StyleView",
            "bar_color": null,
            "description_width": ""
          }
        },
        "9054985cce29483894950b0e67bd1803": {
          "model_module": "@jupyter-widgets/base",
          "model_name": "LayoutModel",
          "model_module_version": "1.2.0",
          "state": {
            "_model_module": "@jupyter-widgets/base",
            "_model_module_version": "1.2.0",
            "_model_name": "LayoutModel",
            "_view_count": null,
            "_view_module": "@jupyter-widgets/base",
            "_view_module_version": "1.2.0",
            "_view_name": "LayoutView",
            "align_content": null,
            "align_items": null,
            "align_self": null,
            "border": null,
            "bottom": null,
            "display": null,
            "flex": null,
            "flex_flow": null,
            "grid_area": null,
            "grid_auto_columns": null,
            "grid_auto_flow": null,
            "grid_auto_rows": null,
            "grid_column": null,
            "grid_gap": null,
            "grid_row": null,
            "grid_template_areas": null,
            "grid_template_columns": null,
            "grid_template_rows": null,
            "height": null,
            "justify_content": null,
            "justify_items": null,
            "left": null,
            "margin": null,
            "max_height": null,
            "max_width": null,
            "min_height": null,
            "min_width": null,
            "object_fit": null,
            "object_position": null,
            "order": null,
            "overflow": null,
            "overflow_x": null,
            "overflow_y": null,
            "padding": null,
            "right": null,
            "top": null,
            "visibility": null,
            "width": null
          }
        },
        "2c946bcac6224823a4303577f14b9277": {
          "model_module": "@jupyter-widgets/controls",
          "model_name": "DescriptionStyleModel",
          "model_module_version": "1.5.0",
          "state": {
            "_model_module": "@jupyter-widgets/controls",
            "_model_module_version": "1.5.0",
            "_model_name": "DescriptionStyleModel",
            "_view_count": null,
            "_view_module": "@jupyter-widgets/base",
            "_view_module_version": "1.2.0",
            "_view_name": "StyleView",
            "description_width": ""
          }
        }
      }
    }
  },
  "cells": [
    {
      "cell_type": "markdown",
      "metadata": {
        "id": "view-in-github",
        "colab_type": "text"
      },
      "source": [
        "<a href=\"https://colab.research.google.com/github/SiPilip/diabetes-counter-propogation-network/blob/main/diabetes_using_cpn.ipynb\" target=\"_parent\"><img src=\"https://colab.research.google.com/assets/colab-badge.svg\" alt=\"Open In Colab\"/></a>"
      ]
    },
    {
      "cell_type": "code",
      "execution_count": 203,
      "metadata": {
        "id": "iQlaayxXOfhj"
      },
      "outputs": [],
      "source": [
        "import pandas as pd\n",
        "import numpy as np\n",
        "import torch\n",
        "from torch.utils.data import TensorDataset, DataLoader\n",
        "from sklearn.model_selection import train_test_split\n",
        "from sklearn.preprocessing import StandardScaler\n",
        "from sklearn.metrics import accuracy_score"
      ]
    },
    {
      "cell_type": "code",
      "source": [
        "from google.colab import drive\n",
        "drive.mount(\"/content/drive\")"
      ],
      "metadata": {
        "colab": {
          "base_uri": "https://localhost:8080/"
        },
        "id": "fs-x-s4iPPrv",
        "outputId": "89ff2b4a-aead-4e66-876d-9b168436ab20"
      },
      "execution_count": 204,
      "outputs": [
        {
          "output_type": "stream",
          "name": "stdout",
          "text": [
            "Drive already mounted at /content/drive; to attempt to forcibly remount, call drive.mount(\"/content/drive\", force_remount=True).\n"
          ]
        }
      ]
    },
    {
      "cell_type": "code",
      "source": [
        "df = pd.read_csv(\"/content/diabetes.csv\")"
      ],
      "metadata": {
        "id": "4QhkoVAXPqUc"
      },
      "execution_count": 205,
      "outputs": []
    },
    {
      "cell_type": "code",
      "source": [
        "# Ganti 0 dengan NaN\n",
        "# Kolom yang tidak boleh bernilai 0\n",
        "invalid_zero_cols = ['Glucose', 'BloodPressure', 'SkinThickness', 'Insulin', 'BMI']\n",
        "df[invalid_zero_cols] = df[invalid_zero_cols].replace(0, pd.NA)\n",
        "\n",
        "# 2. Tampilkan ringkasan awal\n",
        "print(\"Jumlah data awal:\", df.shape)\n",
        "print(\"\\nJumlah missing value per kolom:\\n\", df.isnull().sum())\n",
        "\n",
        "df.head()"
      ],
      "metadata": {
        "colab": {
          "base_uri": "https://localhost:8080/",
          "height": 432
        },
        "id": "IuMAfyfdUOTu",
        "outputId": "ab272811-385f-4093-a4e1-671fbaa72d90"
      },
      "execution_count": 206,
      "outputs": [
        {
          "output_type": "stream",
          "name": "stdout",
          "text": [
            "Jumlah data awal: (100, 9)\n",
            "\n",
            "Jumlah missing value per kolom:\n",
            " Pregnancies                  0\n",
            "Glucose                      1\n",
            "BloodPressure                6\n",
            "SkinThickness               32\n",
            "Insulin                     55\n",
            "BMI                          4\n",
            "DiabetesPedigreeFunction     0\n",
            "Age                          0\n",
            "Outcome                      0\n",
            "dtype: int64\n"
          ]
        },
        {
          "output_type": "execute_result",
          "data": {
            "text/plain": [
              "   Pregnancies Glucose BloodPressure SkinThickness Insulin   BMI  \\\n",
              "0            6     148            72            35    <NA>  33.6   \n",
              "1            1      85            66            29    <NA>  26.6   \n",
              "2            8     183            64          <NA>    <NA>  23.3   \n",
              "3            1      89            66            23      94  28.1   \n",
              "4            0     137            40            35     168  43.1   \n",
              "\n",
              "   DiabetesPedigreeFunction  Age  Outcome  \n",
              "0                     0.627   50        1  \n",
              "1                     0.351   31        0  \n",
              "2                     0.672   32        1  \n",
              "3                     0.167   21        0  \n",
              "4                     2.288   33        1  "
            ],
            "text/html": [
              "\n",
              "  <div id=\"df-91f40cce-8896-47fa-b1fe-af5d68b0ada4\" class=\"colab-df-container\">\n",
              "    <div>\n",
              "<style scoped>\n",
              "    .dataframe tbody tr th:only-of-type {\n",
              "        vertical-align: middle;\n",
              "    }\n",
              "\n",
              "    .dataframe tbody tr th {\n",
              "        vertical-align: top;\n",
              "    }\n",
              "\n",
              "    .dataframe thead th {\n",
              "        text-align: right;\n",
              "    }\n",
              "</style>\n",
              "<table border=\"1\" class=\"dataframe\">\n",
              "  <thead>\n",
              "    <tr style=\"text-align: right;\">\n",
              "      <th></th>\n",
              "      <th>Pregnancies</th>\n",
              "      <th>Glucose</th>\n",
              "      <th>BloodPressure</th>\n",
              "      <th>SkinThickness</th>\n",
              "      <th>Insulin</th>\n",
              "      <th>BMI</th>\n",
              "      <th>DiabetesPedigreeFunction</th>\n",
              "      <th>Age</th>\n",
              "      <th>Outcome</th>\n",
              "    </tr>\n",
              "  </thead>\n",
              "  <tbody>\n",
              "    <tr>\n",
              "      <th>0</th>\n",
              "      <td>6</td>\n",
              "      <td>148</td>\n",
              "      <td>72</td>\n",
              "      <td>35</td>\n",
              "      <td>&lt;NA&gt;</td>\n",
              "      <td>33.6</td>\n",
              "      <td>0.627</td>\n",
              "      <td>50</td>\n",
              "      <td>1</td>\n",
              "    </tr>\n",
              "    <tr>\n",
              "      <th>1</th>\n",
              "      <td>1</td>\n",
              "      <td>85</td>\n",
              "      <td>66</td>\n",
              "      <td>29</td>\n",
              "      <td>&lt;NA&gt;</td>\n",
              "      <td>26.6</td>\n",
              "      <td>0.351</td>\n",
              "      <td>31</td>\n",
              "      <td>0</td>\n",
              "    </tr>\n",
              "    <tr>\n",
              "      <th>2</th>\n",
              "      <td>8</td>\n",
              "      <td>183</td>\n",
              "      <td>64</td>\n",
              "      <td>&lt;NA&gt;</td>\n",
              "      <td>&lt;NA&gt;</td>\n",
              "      <td>23.3</td>\n",
              "      <td>0.672</td>\n",
              "      <td>32</td>\n",
              "      <td>1</td>\n",
              "    </tr>\n",
              "    <tr>\n",
              "      <th>3</th>\n",
              "      <td>1</td>\n",
              "      <td>89</td>\n",
              "      <td>66</td>\n",
              "      <td>23</td>\n",
              "      <td>94</td>\n",
              "      <td>28.1</td>\n",
              "      <td>0.167</td>\n",
              "      <td>21</td>\n",
              "      <td>0</td>\n",
              "    </tr>\n",
              "    <tr>\n",
              "      <th>4</th>\n",
              "      <td>0</td>\n",
              "      <td>137</td>\n",
              "      <td>40</td>\n",
              "      <td>35</td>\n",
              "      <td>168</td>\n",
              "      <td>43.1</td>\n",
              "      <td>2.288</td>\n",
              "      <td>33</td>\n",
              "      <td>1</td>\n",
              "    </tr>\n",
              "  </tbody>\n",
              "</table>\n",
              "</div>\n",
              "    <div class=\"colab-df-buttons\">\n",
              "\n",
              "  <div class=\"colab-df-container\">\n",
              "    <button class=\"colab-df-convert\" onclick=\"convertToInteractive('df-91f40cce-8896-47fa-b1fe-af5d68b0ada4')\"\n",
              "            title=\"Convert this dataframe to an interactive table.\"\n",
              "            style=\"display:none;\">\n",
              "\n",
              "  <svg xmlns=\"http://www.w3.org/2000/svg\" height=\"24px\" viewBox=\"0 -960 960 960\">\n",
              "    <path d=\"M120-120v-720h720v720H120Zm60-500h600v-160H180v160Zm220 220h160v-160H400v160Zm0 220h160v-160H400v160ZM180-400h160v-160H180v160Zm440 0h160v-160H620v160ZM180-180h160v-160H180v160Zm440 0h160v-160H620v160Z\"/>\n",
              "  </svg>\n",
              "    </button>\n",
              "\n",
              "  <style>\n",
              "    .colab-df-container {\n",
              "      display:flex;\n",
              "      gap: 12px;\n",
              "    }\n",
              "\n",
              "    .colab-df-convert {\n",
              "      background-color: #E8F0FE;\n",
              "      border: none;\n",
              "      border-radius: 50%;\n",
              "      cursor: pointer;\n",
              "      display: none;\n",
              "      fill: #1967D2;\n",
              "      height: 32px;\n",
              "      padding: 0 0 0 0;\n",
              "      width: 32px;\n",
              "    }\n",
              "\n",
              "    .colab-df-convert:hover {\n",
              "      background-color: #E2EBFA;\n",
              "      box-shadow: 0px 1px 2px rgba(60, 64, 67, 0.3), 0px 1px 3px 1px rgba(60, 64, 67, 0.15);\n",
              "      fill: #174EA6;\n",
              "    }\n",
              "\n",
              "    .colab-df-buttons div {\n",
              "      margin-bottom: 4px;\n",
              "    }\n",
              "\n",
              "    [theme=dark] .colab-df-convert {\n",
              "      background-color: #3B4455;\n",
              "      fill: #D2E3FC;\n",
              "    }\n",
              "\n",
              "    [theme=dark] .colab-df-convert:hover {\n",
              "      background-color: #434B5C;\n",
              "      box-shadow: 0px 1px 3px 1px rgba(0, 0, 0, 0.15);\n",
              "      filter: drop-shadow(0px 1px 2px rgba(0, 0, 0, 0.3));\n",
              "      fill: #FFFFFF;\n",
              "    }\n",
              "  </style>\n",
              "\n",
              "    <script>\n",
              "      const buttonEl =\n",
              "        document.querySelector('#df-91f40cce-8896-47fa-b1fe-af5d68b0ada4 button.colab-df-convert');\n",
              "      buttonEl.style.display =\n",
              "        google.colab.kernel.accessAllowed ? 'block' : 'none';\n",
              "\n",
              "      async function convertToInteractive(key) {\n",
              "        const element = document.querySelector('#df-91f40cce-8896-47fa-b1fe-af5d68b0ada4');\n",
              "        const dataTable =\n",
              "          await google.colab.kernel.invokeFunction('convertToInteractive',\n",
              "                                                    [key], {});\n",
              "        if (!dataTable) return;\n",
              "\n",
              "        const docLinkHtml = 'Like what you see? Visit the ' +\n",
              "          '<a target=\"_blank\" href=https://colab.research.google.com/notebooks/data_table.ipynb>data table notebook</a>'\n",
              "          + ' to learn more about interactive tables.';\n",
              "        element.innerHTML = '';\n",
              "        dataTable['output_type'] = 'display_data';\n",
              "        await google.colab.output.renderOutput(dataTable, element);\n",
              "        const docLink = document.createElement('div');\n",
              "        docLink.innerHTML = docLinkHtml;\n",
              "        element.appendChild(docLink);\n",
              "      }\n",
              "    </script>\n",
              "  </div>\n",
              "\n",
              "\n",
              "    <div id=\"df-4d01c401-80a6-4562-8be7-17075d73a326\">\n",
              "      <button class=\"colab-df-quickchart\" onclick=\"quickchart('df-4d01c401-80a6-4562-8be7-17075d73a326')\"\n",
              "                title=\"Suggest charts\"\n",
              "                style=\"display:none;\">\n",
              "\n",
              "<svg xmlns=\"http://www.w3.org/2000/svg\" height=\"24px\"viewBox=\"0 0 24 24\"\n",
              "     width=\"24px\">\n",
              "    <g>\n",
              "        <path d=\"M19 3H5c-1.1 0-2 .9-2 2v14c0 1.1.9 2 2 2h14c1.1 0 2-.9 2-2V5c0-1.1-.9-2-2-2zM9 17H7v-7h2v7zm4 0h-2V7h2v10zm4 0h-2v-4h2v4z\"/>\n",
              "    </g>\n",
              "</svg>\n",
              "      </button>\n",
              "\n",
              "<style>\n",
              "  .colab-df-quickchart {\n",
              "      --bg-color: #E8F0FE;\n",
              "      --fill-color: #1967D2;\n",
              "      --hover-bg-color: #E2EBFA;\n",
              "      --hover-fill-color: #174EA6;\n",
              "      --disabled-fill-color: #AAA;\n",
              "      --disabled-bg-color: #DDD;\n",
              "  }\n",
              "\n",
              "  [theme=dark] .colab-df-quickchart {\n",
              "      --bg-color: #3B4455;\n",
              "      --fill-color: #D2E3FC;\n",
              "      --hover-bg-color: #434B5C;\n",
              "      --hover-fill-color: #FFFFFF;\n",
              "      --disabled-bg-color: #3B4455;\n",
              "      --disabled-fill-color: #666;\n",
              "  }\n",
              "\n",
              "  .colab-df-quickchart {\n",
              "    background-color: var(--bg-color);\n",
              "    border: none;\n",
              "    border-radius: 50%;\n",
              "    cursor: pointer;\n",
              "    display: none;\n",
              "    fill: var(--fill-color);\n",
              "    height: 32px;\n",
              "    padding: 0;\n",
              "    width: 32px;\n",
              "  }\n",
              "\n",
              "  .colab-df-quickchart:hover {\n",
              "    background-color: var(--hover-bg-color);\n",
              "    box-shadow: 0 1px 2px rgba(60, 64, 67, 0.3), 0 1px 3px 1px rgba(60, 64, 67, 0.15);\n",
              "    fill: var(--button-hover-fill-color);\n",
              "  }\n",
              "\n",
              "  .colab-df-quickchart-complete:disabled,\n",
              "  .colab-df-quickchart-complete:disabled:hover {\n",
              "    background-color: var(--disabled-bg-color);\n",
              "    fill: var(--disabled-fill-color);\n",
              "    box-shadow: none;\n",
              "  }\n",
              "\n",
              "  .colab-df-spinner {\n",
              "    border: 2px solid var(--fill-color);\n",
              "    border-color: transparent;\n",
              "    border-bottom-color: var(--fill-color);\n",
              "    animation:\n",
              "      spin 1s steps(1) infinite;\n",
              "  }\n",
              "\n",
              "  @keyframes spin {\n",
              "    0% {\n",
              "      border-color: transparent;\n",
              "      border-bottom-color: var(--fill-color);\n",
              "      border-left-color: var(--fill-color);\n",
              "    }\n",
              "    20% {\n",
              "      border-color: transparent;\n",
              "      border-left-color: var(--fill-color);\n",
              "      border-top-color: var(--fill-color);\n",
              "    }\n",
              "    30% {\n",
              "      border-color: transparent;\n",
              "      border-left-color: var(--fill-color);\n",
              "      border-top-color: var(--fill-color);\n",
              "      border-right-color: var(--fill-color);\n",
              "    }\n",
              "    40% {\n",
              "      border-color: transparent;\n",
              "      border-right-color: var(--fill-color);\n",
              "      border-top-color: var(--fill-color);\n",
              "    }\n",
              "    60% {\n",
              "      border-color: transparent;\n",
              "      border-right-color: var(--fill-color);\n",
              "    }\n",
              "    80% {\n",
              "      border-color: transparent;\n",
              "      border-right-color: var(--fill-color);\n",
              "      border-bottom-color: var(--fill-color);\n",
              "    }\n",
              "    90% {\n",
              "      border-color: transparent;\n",
              "      border-bottom-color: var(--fill-color);\n",
              "    }\n",
              "  }\n",
              "</style>\n",
              "\n",
              "      <script>\n",
              "        async function quickchart(key) {\n",
              "          const quickchartButtonEl =\n",
              "            document.querySelector('#' + key + ' button');\n",
              "          quickchartButtonEl.disabled = true;  // To prevent multiple clicks.\n",
              "          quickchartButtonEl.classList.add('colab-df-spinner');\n",
              "          try {\n",
              "            const charts = await google.colab.kernel.invokeFunction(\n",
              "                'suggestCharts', [key], {});\n",
              "          } catch (error) {\n",
              "            console.error('Error during call to suggestCharts:', error);\n",
              "          }\n",
              "          quickchartButtonEl.classList.remove('colab-df-spinner');\n",
              "          quickchartButtonEl.classList.add('colab-df-quickchart-complete');\n",
              "        }\n",
              "        (() => {\n",
              "          let quickchartButtonEl =\n",
              "            document.querySelector('#df-4d01c401-80a6-4562-8be7-17075d73a326 button');\n",
              "          quickchartButtonEl.style.display =\n",
              "            google.colab.kernel.accessAllowed ? 'block' : 'none';\n",
              "        })();\n",
              "      </script>\n",
              "    </div>\n",
              "\n",
              "    </div>\n",
              "  </div>\n"
            ],
            "application/vnd.google.colaboratory.intrinsic+json": {
              "type": "dataframe",
              "variable_name": "df",
              "summary": "{\n  \"name\": \"df\",\n  \"rows\": 100,\n  \"fields\": [\n    {\n      \"column\": \"Pregnancies\",\n      \"properties\": {\n        \"dtype\": \"number\",\n        \"std\": 3,\n        \"min\": 0,\n        \"max\": 15,\n        \"num_unique_values\": 14,\n        \"samples\": [\n          7,\n          11,\n          6\n        ],\n        \"semantic_type\": \"\",\n        \"description\": \"\"\n      }\n    },\n    {\n      \"column\": \"Glucose\",\n      \"properties\": {\n        \"dtype\": \"date\",\n        \"min\": 44,\n        \"max\": 197,\n        \"num_unique_values\": 71,\n        \"samples\": [\n          119,\n          148,\n          187\n        ],\n        \"semantic_type\": \"\",\n        \"description\": \"\"\n      }\n    },\n    {\n      \"column\": \"BloodPressure\",\n      \"properties\": {\n        \"dtype\": \"date\",\n        \"min\": 30,\n        \"max\": 110,\n        \"num_unique_values\": 32,\n        \"samples\": [\n          65,\n          94,\n          62\n        ],\n        \"semantic_type\": \"\",\n        \"description\": \"\"\n      }\n    },\n    {\n      \"column\": \"SkinThickness\",\n      \"properties\": {\n        \"dtype\": \"date\",\n        \"min\": 10,\n        \"max\": 60,\n        \"num_unique_values\": 34,\n        \"samples\": [\n          31,\n          18,\n          13\n        ],\n        \"semantic_type\": \"\",\n        \"description\": \"\"\n      }\n    },\n    {\n      \"column\": \"Insulin\",\n      \"properties\": {\n        \"dtype\": \"date\",\n        \"min\": 23,\n        \"max\": 846,\n        \"num_unique_values\": 40,\n        \"samples\": [\n          240,\n          192,\n          54\n        ],\n        \"semantic_type\": \"\",\n        \"description\": \"\"\n      }\n    },\n    {\n      \"column\": \"BMI\",\n      \"properties\": {\n        \"dtype\": \"date\",\n        \"min\": 19.1,\n        \"max\": 49.7,\n        \"num_unique_values\": 86,\n        \"samples\": [\n          48.8,\n          33.6,\n          32.6\n        ],\n        \"semantic_type\": \"\",\n        \"description\": \"\"\n      }\n    },\n    {\n      \"column\": \"DiabetesPedigreeFunction\",\n      \"properties\": {\n        \"dtype\": \"number\",\n        \"std\": 0.37117020123230293,\n        \"min\": 0.102,\n        \"max\": 2.288,\n        \"num_unique_values\": 93,\n        \"samples\": [\n          0.696,\n          0.451,\n          1.781\n        ],\n        \"semantic_type\": \"\",\n        \"description\": \"\"\n      }\n    },\n    {\n      \"column\": \"Age\",\n      \"properties\": {\n        \"dtype\": \"number\",\n        \"std\": 11,\n        \"min\": 21,\n        \"max\": 60,\n        \"num_unique_values\": 36,\n        \"samples\": [\n          23,\n          51,\n          48\n        ],\n        \"semantic_type\": \"\",\n        \"description\": \"\"\n      }\n    },\n    {\n      \"column\": \"Outcome\",\n      \"properties\": {\n        \"dtype\": \"number\",\n        \"std\": 0,\n        \"min\": 0,\n        \"max\": 1,\n        \"num_unique_values\": 2,\n        \"samples\": [\n          0,\n          1\n        ],\n        \"semantic_type\": \"\",\n        \"description\": \"\"\n      }\n    }\n  ]\n}"
            }
          },
          "metadata": {},
          "execution_count": 206
        }
      ]
    },
    {
      "cell_type": "code",
      "source": [
        "# Imputasi nilai NaN dengan median kolom masing-masing\n",
        "for col in invalid_zero_cols:\n",
        "    df[col] = df[col].fillna(df[col].median())\n",
        "\n",
        "# Simpan DataFrame hasil preprocessing ke file CSV\n",
        "df.to_csv(\"preprocessed_data_before_normalization.csv\", index=False)\n",
        "\n",
        "# (Opsional) Pisahkan fitur dan target\n",
        "X = df.drop(columns='Outcome')\n",
        "y = df['Outcome']\n",
        "\n",
        "df.to_csv(\"preprocessed_data_after_normalization.csv\", index=False)\n",
        "\n",
        "# Tampilkan hasil akhir\n",
        "print(X.head())"
      ],
      "metadata": {
        "colab": {
          "base_uri": "https://localhost:8080/"
        },
        "id": "RyLJvduih21H",
        "outputId": "bf39b76e-a75d-4ab8-a7b0-658d6d389a70"
      },
      "execution_count": 207,
      "outputs": [
        {
          "output_type": "stream",
          "name": "stdout",
          "text": [
            "   Pregnancies  Glucose  BloodPressure  SkinThickness  Insulin   BMI  \\\n",
            "0            6    148.0           72.0           35.0    125.0  33.6   \n",
            "1            1     85.0           66.0           29.0    125.0  26.6   \n",
            "2            8    183.0           64.0           29.0    125.0  23.3   \n",
            "3            1     89.0           66.0           23.0     94.0  28.1   \n",
            "4            0    137.0           40.0           35.0    168.0  43.1   \n",
            "\n",
            "   DiabetesPedigreeFunction  Age  \n",
            "0                     0.627   50  \n",
            "1                     0.351   31  \n",
            "2                     0.672   32  \n",
            "3                     0.167   21  \n",
            "4                     2.288   33  \n"
          ]
        },
        {
          "output_type": "stream",
          "name": "stderr",
          "text": [
            "<ipython-input-207-b880f39c9ba6>:3: FutureWarning: Downcasting object dtype arrays on .fillna, .ffill, .bfill is deprecated and will change in a future version. Call result.infer_objects(copy=False) instead. To opt-in to the future behavior, set `pd.set_option('future.no_silent_downcasting', True)`\n",
            "  df[col] = df[col].fillna(df[col].median())\n",
            "<ipython-input-207-b880f39c9ba6>:3: FutureWarning: Downcasting object dtype arrays on .fillna, .ffill, .bfill is deprecated and will change in a future version. Call result.infer_objects(copy=False) instead. To opt-in to the future behavior, set `pd.set_option('future.no_silent_downcasting', True)`\n",
            "  df[col] = df[col].fillna(df[col].median())\n",
            "<ipython-input-207-b880f39c9ba6>:3: FutureWarning: Downcasting object dtype arrays on .fillna, .ffill, .bfill is deprecated and will change in a future version. Call result.infer_objects(copy=False) instead. To opt-in to the future behavior, set `pd.set_option('future.no_silent_downcasting', True)`\n",
            "  df[col] = df[col].fillna(df[col].median())\n",
            "<ipython-input-207-b880f39c9ba6>:3: FutureWarning: Downcasting object dtype arrays on .fillna, .ffill, .bfill is deprecated and will change in a future version. Call result.infer_objects(copy=False) instead. To opt-in to the future behavior, set `pd.set_option('future.no_silent_downcasting', True)`\n",
            "  df[col] = df[col].fillna(df[col].median())\n",
            "<ipython-input-207-b880f39c9ba6>:3: FutureWarning: Downcasting object dtype arrays on .fillna, .ffill, .bfill is deprecated and will change in a future version. Call result.infer_objects(copy=False) instead. To opt-in to the future behavior, set `pd.set_option('future.no_silent_downcasting', True)`\n",
            "  df[col] = df[col].fillna(df[col].median())\n"
          ]
        }
      ]
    },
    {
      "cell_type": "code",
      "source": [
        "# Spliting data\n",
        "\n",
        "# X_train, X_test, y_train, y_test = train_test_split(X, y, test_size=0.2, random_state=42, stratify=y)\n",
        "\n",
        "X_train = X\n",
        "y_train = y\n",
        "\n",
        "X_test = X\n",
        "y_test = y"
      ],
      "metadata": {
        "id": "PCj66QALQ16I"
      },
      "execution_count": 208,
      "outputs": []
    },
    {
      "cell_type": "code",
      "source": [
        "# Konversi fitur (X) dari DataFrame ke Tensor\n",
        "X_train = torch.tensor(X_train.to_numpy(), dtype=torch.float32)\n",
        "X_test = torch.tensor(X_test.to_numpy(), dtype=torch.float32)\n",
        "\n",
        "# Konversi label (y) dari Series ke Tensor\n",
        "y_train = torch.tensor(y_train.to_numpy(), dtype=torch.float32)\n",
        "y_test = torch.tensor(y_test.to_numpy(), dtype=torch.float32)\n",
        "\n",
        "# Jika label dalam bentuk one-hot, ubah ke index kelas\n",
        "if y_train.ndim == 2:\n",
        "    y_train = torch.argmax(y_train, dim=1)\n",
        "if y_test.ndim == 2:\n",
        "    y_test = torch.argmax(y_test, dim=1)\n",
        "\n",
        "# Pastikan tipe data label adalah long (untuk CrossEntropyLoss)\n",
        "y_train = y_train.long()\n",
        "y_test = y_test.long()\n"
      ],
      "metadata": {
        "id": "h28Zx8eJRHhB"
      },
      "execution_count": 209,
      "outputs": []
    },
    {
      "cell_type": "markdown",
      "source": [
        "### Counter Propagation Network --> CPN"
      ],
      "metadata": {
        "id": "KpKj2S0uRi6-"
      }
    },
    {
      "cell_type": "code",
      "source": [
        "from torch import nn\n",
        "import torch.nn.functional as F"
      ],
      "metadata": {
        "id": "dEf0jdncSCKf"
      },
      "execution_count": 210,
      "outputs": []
    },
    {
      "cell_type": "code",
      "source": [
        "import torch\n",
        "from torch import nn\n",
        "\n",
        "class CPN(nn.Module):\n",
        "    def __init__(self, input_size: int, kohonen_size: int, output_size: int):\n",
        "        super(CPN, self).__init__()\n",
        "        # Kohonen layer (unsupervised)\n",
        "        self.kohonen = nn.Linear(input_size, kohonen_size, bias=False)\n",
        "\n",
        "        # Grossberg layer (supervised)\n",
        "        self.grossberg = nn.Linear(kohonen_size, output_size)\n",
        "\n",
        "    def forward(self, x):\n",
        "        # Kohonen layer - winner takes all (argmax activation)\n",
        "        kohonen_output = self.kohonen(x)\n",
        "        winner_index = torch.argmax(kohonen_output, dim=1)\n",
        "        one_hot_output = torch.zeros_like(kohonen_output)\n",
        "        one_hot_output[torch.arange(x.size(0)), winner_index] = 1.0\n",
        "\n",
        "        # Grossberg layer - supervised output\n",
        "        output = self.grossberg(one_hot_output)\n",
        "        return output"
      ],
      "metadata": {
        "id": "-s-msUzSRhbs"
      },
      "execution_count": 211,
      "outputs": []
    },
    {
      "cell_type": "code",
      "source": [
        "from torch.utils.data import TensorDataset, DataLoader\n",
        "\n",
        "train_dataset = TensorDataset(X_train, y_train)\n",
        "test_dataset = TensorDataset(X_test, y_test)\n",
        "\n",
        "train_dataloader = DataLoader(train_dataset, batch_size=1, shuffle=False)\n",
        "test_dataloader = DataLoader(test_dataset, batch_size=1)\n",
        "\n",
        "# Setup\n",
        "device = torch.device(\"cuda\" if torch.cuda.is_available() else \"cpu\")\n",
        "model = CPN(input_size=X_train.shape[1], kohonen_size=10, output_size=len(torch.unique(y_train)))\n",
        "optimizer = torch.optim.Adam(model.parameters(), lr=0.01)"
      ],
      "metadata": {
        "id": "qw_rWhKbMLg_"
      },
      "execution_count": 212,
      "outputs": []
    },
    {
      "cell_type": "code",
      "source": [
        "print(\"Bobot awal Kohonen:\\n\", model.kohonen.weight.data)\n",
        "print(\"Bobot awal Grossberg:\\n\", model.grossberg.weight.data)"
      ],
      "metadata": {
        "colab": {
          "base_uri": "https://localhost:8080/"
        },
        "id": "-XdsDJE0lLNx",
        "outputId": "0eb7ccda-3683-4bde-934a-5338636fa6b6"
      },
      "execution_count": 213,
      "outputs": [
        {
          "output_type": "stream",
          "name": "stdout",
          "text": [
            "Bobot awal Kohonen:\n",
            " tensor([[ 0.0044,  0.1902,  0.2261,  0.1889, -0.1410,  0.2848, -0.3208, -0.0447],\n",
            "        [-0.2228, -0.0885, -0.0875,  0.0708, -0.0358,  0.1202, -0.2973, -0.2364],\n",
            "        [-0.2505, -0.1218, -0.0387,  0.0301,  0.1767, -0.1035,  0.0073,  0.2606],\n",
            "        [-0.0044, -0.0724, -0.1021, -0.2235,  0.3342,  0.0061,  0.1726, -0.0340],\n",
            "        [-0.0471,  0.2629,  0.0614, -0.3381, -0.2436, -0.3112, -0.0927,  0.2503],\n",
            "        [-0.2121, -0.0637,  0.1867, -0.1724, -0.0211, -0.1214, -0.1601, -0.2765],\n",
            "        [ 0.3290, -0.2703, -0.0068, -0.2688,  0.0272, -0.2900, -0.2255, -0.1466],\n",
            "        [-0.3023, -0.3100, -0.2523,  0.2052,  0.0710, -0.1804,  0.0601,  0.1819],\n",
            "        [ 0.0180, -0.1782, -0.3286,  0.2078, -0.1500, -0.0043,  0.3147,  0.1293],\n",
            "        [-0.3475, -0.1112,  0.0131, -0.0380, -0.0387,  0.0250,  0.1394, -0.2420]])\n",
            "Bobot awal Grossberg:\n",
            " tensor([[-0.2325, -0.1848,  0.3082, -0.2416, -0.2396,  0.0344,  0.2302, -0.0792,\n",
            "         -0.1162,  0.1197],\n",
            "        [-0.2223,  0.2307, -0.2871,  0.0232,  0.0804,  0.0231,  0.2508, -0.1477,\n",
            "          0.0843, -0.1520]])\n"
          ]
        }
      ]
    },
    {
      "cell_type": "code",
      "source": [
        "print(X_train.shape[1])"
      ],
      "metadata": {
        "colab": {
          "base_uri": "https://localhost:8080/"
        },
        "id": "zVVH1-X0k5dB",
        "outputId": "db726f35-b84d-473c-bd77-2f2828f5adf3"
      },
      "execution_count": 214,
      "outputs": [
        {
          "output_type": "stream",
          "name": "stdout",
          "text": [
            "8\n"
          ]
        }
      ]
    },
    {
      "cell_type": "code",
      "source": [
        "import torch\n",
        "from tqdm.auto import tqdm\n",
        "from typing import Dict, List, Tuple\n",
        "import csv\n",
        "import os\n",
        "import pandas as pd\n",
        "import matplotlib.pyplot as plt\n",
        "\n",
        "def train_step(model: torch.nn.Module,\n",
        "               dataloader: torch.utils.data.DataLoader,\n",
        "               device: torch.device,\n",
        "               epoch: int,\n",
        "               alpha: float = 1e-2,\n",
        "               error_threshold: float = 1e-3) -> float:\n",
        "    model.train()\n",
        "    train_acc = 0\n",
        "    manual_results = []\n",
        "\n",
        "    for batch, (X, y) in enumerate(dataloader):\n",
        "        X, y = X.to(device), y.to(device)\n",
        "\n",
        "        with torch.no_grad():\n",
        "            for i in range(X.size(0)):  # proses tiap sampel (karena CPN tidak pakai batch update)\n",
        "                sample_X = X[i].unsqueeze(0)  # bentuk (1, input_dim)\n",
        "                sample_y = y[i].item()\n",
        "\n",
        "                # Forward Kohonen\n",
        "                kohonen_output = model.kohonen(sample_X)\n",
        "                winner_index = torch.argmax(kohonen_output, dim=1).item()\n",
        "                z = torch.zeros_like(kohonen_output)\n",
        "                z[0, winner_index] = 1.0\n",
        "\n",
        "                # Forward Grossberg\n",
        "                grossberg_output = model.grossberg(z)\n",
        "                pred_y = torch.argmax(grossberg_output, dim=1).item()\n",
        "\n",
        "                # Hitung error\n",
        "                y_true_onehot = torch.zeros(1, grossberg_output.shape[1], device=device)\n",
        "                y_true_onehot[0, sample_y] = 1\n",
        "                error = grossberg_output - y_true_onehot\n",
        "\n",
        "                # Simpan bobot sebelum update\n",
        "                W_before = model.grossberg.weight.data.clone().detach().cpu()\n",
        "\n",
        "                # Update Grossberg jika error cukup besar\n",
        "                delta_W = -alpha * z.T @ error\n",
        "                if torch.abs(error).max() >= error_threshold:\n",
        "                    model.grossberg.weight.data += delta_W.T\n",
        "                    W_after = W_before + delta_W.T.cpu()\n",
        "                else:\n",
        "                    W_after = W_before  # Tidak berubah jika error kecil\n",
        "\n",
        "                # Akumulasi akurasi\n",
        "                train_acc += int(pred_y == sample_y)\n",
        "\n",
        "                # Simpan hasil manual\n",
        "                result = {\n",
        "                    \"epoch\": epoch + 1,\n",
        "                    **{f\"x{j+1}\": sample_X[0][j].item() for j in range(sample_X.shape[1])},\n",
        "                    \"y_true\": sample_y,\n",
        "                    \"y_pred\": pred_y,\n",
        "                }\n",
        "\n",
        "                for j in range(grossberg_output.shape[1]):\n",
        "                    result[f\"error_{j}\"] = error[0][j].item()\n",
        "                for j in range(grossberg_output.shape[1]):\n",
        "                    for k in range(z.shape[1]):\n",
        "                        result[f\"w{j}_{k}_after\"] = W_after[j][k].item()\n",
        "                        result[f\"delta_w{j}_{k}\"] = delta_W.T[j][k].item()\n",
        "\n",
        "                manual_results.append(result)\n",
        "\n",
        "    # Simpan ke CSV\n",
        "    csv_path = \"manual_cpn_forward_backward.csv\"\n",
        "    write_header = not os.path.exists(csv_path)\n",
        "\n",
        "    if manual_results:\n",
        "        with open(csv_path, mode='a', newline='') as f:\n",
        "            writer = csv.DictWriter(f, fieldnames=manual_results[0].keys())\n",
        "            if write_header:\n",
        "                writer.writeheader()\n",
        "            writer.writerows(manual_results)\n",
        "\n",
        "    train_acc /= len(dataloader.dataset)\n",
        "    return train_acc\n",
        "\n",
        "def train(model: torch.nn.Module,\n",
        "          train_dataloader: torch.utils.data.DataLoader,\n",
        "          epochs: int,\n",
        "          device: torch.device,\n",
        "          alpha: float = 1e-2,\n",
        "          error_threshold: float = 1e-3) -> Dict[str, List]:\n",
        "\n",
        "    results = {\"train_acc\": []}\n",
        "    model.to(device)\n",
        "\n",
        "    for epoch in tqdm(range(epochs)):\n",
        "        train_acc = train_step(model=model,\n",
        "                               dataloader=train_dataloader,\n",
        "                               device=device,\n",
        "                               epoch=epoch,\n",
        "                               alpha=alpha,\n",
        "                               error_threshold=error_threshold)\n",
        "\n",
        "        print(f\"Epoch: {epoch+1} | train_acc: {train_acc:.4f}\")\n",
        "        results[\"train_acc\"].append(train_acc)\n",
        "\n",
        "    return results\n"
      ],
      "metadata": {
        "id": "9WYw5mIGMfw0"
      },
      "execution_count": 215,
      "outputs": []
    },
    {
      "cell_type": "code",
      "source": [
        "results = train(\n",
        "    model=model,\n",
        "    train_dataloader=train_dataloader,\n",
        "    epochs=5,\n",
        "    device=device,\n",
        "    alpha=0.01,\n",
        "    error_threshold=1e-3\n",
        ")"
      ],
      "metadata": {
        "colab": {
          "base_uri": "https://localhost:8080/",
          "height": 136,
          "referenced_widgets": [
            "424d3e2f02b644808cb1d97dc49e7d7f",
            "e18236a6c33b4f8abc1429e3facfa903",
            "07ba6e57ebea45aab449d09a7acb86f0",
            "af867ad440774c55b759ba213e950000",
            "4182bda6f571428ca813b0b96b7e2951",
            "38226fe3bff14d5890ad34b33def5521",
            "dc4cc5b44bd64b71a3e72f1c9fd33c7f",
            "f5860e059b5548d1a9a149fdf47cb379",
            "2e8690804f5943d28d8a422b6a825d71",
            "9054985cce29483894950b0e67bd1803",
            "2c946bcac6224823a4303577f14b9277"
          ]
        },
        "id": "6SQJ8PHmMkgm",
        "outputId": "5bb19ea2-13b9-4ebf-cf62-ab24852babc0"
      },
      "execution_count": 216,
      "outputs": [
        {
          "output_type": "display_data",
          "data": {
            "text/plain": [
              "  0%|          | 0/5 [00:00<?, ?it/s]"
            ],
            "application/vnd.jupyter.widget-view+json": {
              "version_major": 2,
              "version_minor": 0,
              "model_id": "424d3e2f02b644808cb1d97dc49e7d7f"
            }
          },
          "metadata": {}
        },
        {
          "output_type": "stream",
          "name": "stdout",
          "text": [
            "Epoch: 1 | train_acc: 0.4800\n",
            "Epoch: 2 | train_acc: 0.6300\n",
            "Epoch: 3 | train_acc: 0.6300\n",
            "Epoch: 4 | train_acc: 0.6300\n",
            "Epoch: 5 | train_acc: 0.6300\n"
          ]
        }
      ]
    },
    {
      "cell_type": "code",
      "source": [
        "from sklearn.metrics import confusion_matrix, ConfusionMatrixDisplay\n",
        "\n",
        "# Ambil data dari CSV hasil manual forward-backward\n",
        "df = pd.read_csv(\"manual_cpn_forward_backward (11).csv\")\n",
        "y_true = df[\"y_true\"]\n",
        "y_pred = df[\"y_pred\"]\n",
        "\n",
        "cm = confusion_matrix(y_true, y_pred)\n",
        "disp = ConfusionMatrixDisplay(confusion_matrix=cm)\n",
        "disp.plot(cmap=\"Blues\")\n",
        "plt.title(\"Confusion Matrix for CPN Prediction\")\n",
        "plt.show()\n"
      ],
      "metadata": {
        "colab": {
          "base_uri": "https://localhost:8080/",
          "height": 472
        },
        "id": "vPv2uV_zN7bk",
        "outputId": "fc7b8a57-0c32-4333-bbd6-9c40f77de009"
      },
      "execution_count": 222,
      "outputs": [
        {
          "output_type": "display_data",
          "data": {
            "text/plain": [
              "<Figure size 640x480 with 2 Axes>"
            ],
            "image/png": "[encoded data removed]"
          },
          "metadata": {}
        }
      ]
    },
    {
      "cell_type": "code",
      "source": [
        "model_df = pd.DataFrame(results)\n",
        "plt.figure(figsize=(10, 6))\n",
        "plt.plot(range(len(model_df)), model_df[\"train_acc\"], label=\"Train Accuracy\", marker='o')\n",
        "plt.title(\"Train Accuracy per Epoch (CPN)\")\n",
        "plt.xlabel(\"Epoch\")\n",
        "plt.ylabel(\"Accuracy\")\n",
        "plt.grid(True)\n",
        "plt.legend()\n",
        "plt.show()"
      ],
      "metadata": {
        "colab": {
          "base_uri": "https://localhost:8080/",
          "height": 564
        },
        "id": "ZxLCIS_7fe3p",
        "outputId": "28bcdeb6-445d-4ec1-ff28-dd67a7c11661"
      },
      "execution_count": 218,
      "outputs": [
        {
          "output_type": "display_data",
          "data": {
            "text/plain": [
              "<Figure size 1000x600 with 1 Axes>"
            ],
            "image/png": "[encoded data removed]"
          },
          "metadata": {}
        }
      ]
    }
  ]
}